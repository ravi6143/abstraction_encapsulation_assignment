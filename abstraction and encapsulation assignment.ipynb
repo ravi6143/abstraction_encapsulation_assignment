{
 "cells": [
  {
   "cell_type": "markdown",
   "id": "477ac916-4bbc-4cef-9528-774adbd76a38",
   "metadata": {},
   "source": [
    "Question -1\n",
    "ans"
   ]
  },
  {
   "cell_type": "markdown",
   "id": "8551c991-b5db-4c11-bb14-dd1c98d70176",
   "metadata": {},
   "source": [
    "Abstraction - it is used to create abstract class to handle complexicity \n",
    "              that defines a common structures for  a group of related objects\n",
    "              it allows the creation of generic clsses and method that can be specialized \n",
    "              by derived classes"
   ]
  },
  {
   "cell_type": "code",
   "execution_count": 2,
   "id": "7d95bf8e-5b94-41dc-8e6b-df1416c91434",
   "metadata": {},
   "outputs": [],
   "source": [
    "import abc\n",
    "\n",
    "class admission_details:\n",
    "    def student_name(self):\n",
    "        pass\n",
    "    \n",
    "    def course_name(self):\n",
    "        pass\n",
    "    \n",
    "    def clg_preferance(self):\n",
    "        pass\n",
    "    \n",
    "    def scorecard(self):\n",
    "        pass\n"
   ]
  },
  {
   "cell_type": "code",
   "execution_count": 3,
   "id": "1d9ade84-9cef-46bf-b9b6-599359f09205",
   "metadata": {},
   "outputs": [],
   "source": [
    "class counciling(admission_details):\n",
    "    def scorecard(self):\n",
    "        return 'it provide the scorecard of student'"
   ]
  },
  {
   "cell_type": "code",
   "execution_count": 4,
   "id": "be501aed-bf57-44f4-9251-2ed18f2820fb",
   "metadata": {},
   "outputs": [],
   "source": [
    "obj_score = counciling()"
   ]
  },
  {
   "cell_type": "code",
   "execution_count": 5,
   "id": "d3f3092c-e7ec-4dd8-9fb4-762051e6b683",
   "metadata": {},
   "outputs": [
    {
     "data": {
      "text/plain": [
       "'it provide the scorecard of student'"
      ]
     },
     "execution_count": 5,
     "metadata": {},
     "output_type": "execute_result"
    }
   ],
   "source": [
    "obj_score.scorecard()"
   ]
  },
  {
   "cell_type": "code",
   "execution_count": 6,
   "id": "35756a70-88b8-4f25-b206-d38f7297304d",
   "metadata": {},
   "outputs": [],
   "source": [
    "class academics(admission_details):\n",
    "    def student_name(self):\n",
    "        return 'name of student'\n",
    "    \n",
    "    def course_name(self):\n",
    "        return 'name of course choosen'\n",
    "    \n",
    "    def clg_preferance(self):\n",
    "        return 'name of clg'"
   ]
  },
  {
   "cell_type": "code",
   "execution_count": 7,
   "id": "7cc0f5d0-8faf-4beb-a26e-5f25eb59bab4",
   "metadata": {},
   "outputs": [],
   "source": [
    "obj_academics = academics()"
   ]
  },
  {
   "cell_type": "code",
   "execution_count": 8,
   "id": "82f2b215-d44a-450b-bd0e-78b08291c467",
   "metadata": {},
   "outputs": [
    {
     "data": {
      "text/plain": [
       "'name of student'"
      ]
     },
     "execution_count": 8,
     "metadata": {},
     "output_type": "execute_result"
    }
   ],
   "source": [
    "obj_academics.student_name()"
   ]
  },
  {
   "cell_type": "code",
   "execution_count": 10,
   "id": "2c379db7-fdfc-455c-a4f3-a11f5e4060c6",
   "metadata": {},
   "outputs": [
    {
     "data": {
      "text/plain": [
       "'name of course choosen'"
      ]
     },
     "execution_count": 10,
     "metadata": {},
     "output_type": "execute_result"
    }
   ],
   "source": [
    "obj_academics.course_name()"
   ]
  },
  {
   "cell_type": "code",
   "execution_count": null,
   "id": "603db9b7-5ef8-49d2-a4de-08000abe8074",
   "metadata": {},
   "outputs": [],
   "source": []
  },
  {
   "cell_type": "code",
   "execution_count": null,
   "id": "5b865384-071e-41da-9772-50f981c6d1dd",
   "metadata": {},
   "outputs": [],
   "source": []
  },
  {
   "cell_type": "code",
   "execution_count": null,
   "id": "e6e4f3ee-ff00-455b-91bc-131784e636d2",
   "metadata": {},
   "outputs": [],
   "source": []
  },
  {
   "cell_type": "markdown",
   "id": "4533820c-afce-4f25-962f-112f43c79f08",
   "metadata": {},
   "source": [
    "Question - 2\n",
    "ans"
   ]
  },
  {
   "cell_type": "markdown",
   "id": "41a4083f-0afc-41a8-ac90-773a5aff22fa",
   "metadata": {},
   "source": [
    "Abstraction - it focuses to represent the essential features of instances , it involves the hiding of \n",
    "unnecessary details , giving the access for only relevent information of object to the user\n",
    "\n",
    "\n",
    "Encapsulation - it focuses on bundling of data and methods to the class \n",
    "                and to control the access by creating methods for them"
   ]
  },
  {
   "cell_type": "code",
   "execution_count": null,
   "id": "897881a2-6f78-41bc-8de4-44eb9b76cedb",
   "metadata": {},
   "outputs": [],
   "source": []
  },
  {
   "cell_type": "code",
   "execution_count": null,
   "id": "43b5d289-8460-493d-9124-24f1e492f953",
   "metadata": {},
   "outputs": [],
   "source": []
  },
  {
   "cell_type": "markdown",
   "id": "19f183d1-f5b8-4032-a2e7-32de15d2ee0b",
   "metadata": {},
   "source": [
    "Encapsulation-"
   ]
  },
  {
   "cell_type": "code",
   "execution_count": 11,
   "id": "ae690cc4-ae53-45e5-9a7a-83b3168aac77",
   "metadata": {},
   "outputs": [],
   "source": [
    "class bank_account :\n",
    "    def __init__(self, balance):\n",
    "        self.__balance = balance\n",
    "        \n",
    "    def deposit(self, amount):\n",
    "         self.__balance = self.__balance + amount\n",
    "    \n",
    "    def withdraw(self, amount):\n",
    "        if self.__balance >= amount:\n",
    "            \n",
    "            self.__balance = self.__balance - amount\n",
    "            \n",
    "        \n",
    "            return \"withdraw successfull\"\n",
    "        \n",
    "        \n",
    "        else :\n",
    "            return \"insufficient balance\"\n",
    "        \n",
    "    def get_balance(self):\n",
    "        return self.__balance\n",
    "        \n",
    "        \n",
    "        "
   ]
  },
  {
   "cell_type": "code",
   "execution_count": 12,
   "id": "23649f27-ebb5-46cf-bee1-988d6b978e7d",
   "metadata": {},
   "outputs": [],
   "source": [
    "obj_bank_account = bank_account(8000)"
   ]
  },
  {
   "cell_type": "code",
   "execution_count": 14,
   "id": "c7050d34-9d32-458c-bfd0-9d1c2bc83668",
   "metadata": {},
   "outputs": [
    {
     "data": {
      "text/plain": [
       "8000"
      ]
     },
     "execution_count": 14,
     "metadata": {},
     "output_type": "execute_result"
    }
   ],
   "source": [
    "obj_bank_account.get_balance()"
   ]
  },
  {
   "cell_type": "code",
   "execution_count": 15,
   "id": "cde4be8b-168b-4f3a-b417-2a573aa2351d",
   "metadata": {},
   "outputs": [
    {
     "data": {
      "text/plain": [
       "'withdraw successfull'"
      ]
     },
     "execution_count": 15,
     "metadata": {},
     "output_type": "execute_result"
    }
   ],
   "source": [
    "obj_bank_account.withdraw(3000)"
   ]
  },
  {
   "cell_type": "code",
   "execution_count": 17,
   "id": "a0bfc19d-9192-47a6-a8b3-438a7e849f94",
   "metadata": {},
   "outputs": [
    {
     "data": {
      "text/plain": [
       "5000"
      ]
     },
     "execution_count": 17,
     "metadata": {},
     "output_type": "execute_result"
    }
   ],
   "source": [
    "obj_bank_account.get_balance()"
   ]
  },
  {
   "cell_type": "code",
   "execution_count": null,
   "id": "8d29aef5-05b7-431c-9323-0ad38889af97",
   "metadata": {},
   "outputs": [],
   "source": []
  },
  {
   "cell_type": "markdown",
   "id": "5e3f3b6c-f487-4e18-86f2-94a1e7acffb4",
   "metadata": {},
   "source": [
    "Abstraction - "
   ]
  },
  {
   "cell_type": "code",
   "execution_count": 18,
   "id": "d9168dbd-8d05-4833-99b3-7a19aac4a45c",
   "metadata": {},
   "outputs": [],
   "source": [
    "import abc\n",
    "class ad_details:\n",
    "    \n",
    "    def student_details(self):\n",
    "        pass\n",
    "    \n",
    "    def clg_preferance(self):\n",
    "        pass\n",
    "    \n",
    "    def scorecard(self):\n",
    "        pass\n",
    "    \n",
    "    def course(self):\n",
    "        pass\n",
    "                \n"
   ]
  },
  {
   "cell_type": "code",
   "execution_count": 19,
   "id": "a035b135-5656-439c-8828-f8df9b93f01e",
   "metadata": {},
   "outputs": [],
   "source": [
    "class details(ad_details):\n",
    "    def student_details(self):\n",
    "        return 'this will provide student details'\n",
    "    \n",
    "    def scorecard(self):\n",
    "        return 'this will provide score of student'\n",
    "    "
   ]
  },
  {
   "cell_type": "code",
   "execution_count": 20,
   "id": "14fcc581-6e8e-4ac3-8653-3b56a3e2cf98",
   "metadata": {},
   "outputs": [],
   "source": [
    "class academic(ad_details):\n",
    "    def course(self):\n",
    "        return 'this will show which course choosen'\n",
    "    \n",
    "    def clg_preferance(self):\n",
    "        return 'this will show which clg choosen by student'\n",
    "    \n",
    "    def scorecard(self):\n",
    "        return 'this will provide score of student'\n",
    "    "
   ]
  },
  {
   "cell_type": "code",
   "execution_count": 21,
   "id": "1212fdfd-a8e7-4b36-b24e-b076df2496aa",
   "metadata": {},
   "outputs": [],
   "source": [
    "obj_details = details()"
   ]
  },
  {
   "cell_type": "code",
   "execution_count": 25,
   "id": "3386af99-1c69-4dad-87c1-cafba1489c61",
   "metadata": {},
   "outputs": [
    {
     "data": {
      "text/plain": [
       "'this will provide student details'"
      ]
     },
     "execution_count": 25,
     "metadata": {},
     "output_type": "execute_result"
    }
   ],
   "source": [
    "obj_details.student_details()"
   ]
  },
  {
   "cell_type": "code",
   "execution_count": 26,
   "id": "526420e2-ef77-4d5e-8d36-41edca9843bb",
   "metadata": {},
   "outputs": [
    {
     "data": {
      "text/plain": [
       "'this will provide score of student'"
      ]
     },
     "execution_count": 26,
     "metadata": {},
     "output_type": "execute_result"
    }
   ],
   "source": [
    "obj_details.scorecard()"
   ]
  },
  {
   "cell_type": "code",
   "execution_count": null,
   "id": "90cf7d62-d5e9-40d9-aeb3-92793de0c922",
   "metadata": {},
   "outputs": [],
   "source": []
  },
  {
   "cell_type": "code",
   "execution_count": 28,
   "id": "84b02702-114f-4356-8bad-8c98de786dfc",
   "metadata": {},
   "outputs": [],
   "source": [
    "obj_academic= academic()"
   ]
  },
  {
   "cell_type": "code",
   "execution_count": 29,
   "id": "71e37ad6-ce0d-4084-8633-a51988d450bf",
   "metadata": {},
   "outputs": [
    {
     "data": {
      "text/plain": [
       "'this will show which course choosen'"
      ]
     },
     "execution_count": 29,
     "metadata": {},
     "output_type": "execute_result"
    }
   ],
   "source": [
    "obj_academic.course()"
   ]
  },
  {
   "cell_type": "code",
   "execution_count": null,
   "id": "f6bdc483-9a93-4cf6-9e39-0fdbddb97741",
   "metadata": {},
   "outputs": [],
   "source": []
  },
  {
   "cell_type": "code",
   "execution_count": null,
   "id": "9bc37ecc-6b50-4e77-8e27-f130fad91131",
   "metadata": {},
   "outputs": [],
   "source": []
  },
  {
   "cell_type": "code",
   "execution_count": null,
   "id": "79ab732e-0034-4a28-bcb5-084b406ed343",
   "metadata": {},
   "outputs": [],
   "source": []
  },
  {
   "cell_type": "markdown",
   "id": "23fc8f2d-52a5-41a7-9ff4-39768b9fb992",
   "metadata": {},
   "source": [
    "Question - 3\n",
    "ans"
   ]
  },
  {
   "cell_type": "markdown",
   "id": "56d92ff6-f73c-4e28-b247-a7b9541a2993",
   "metadata": {},
   "source": [
    "abc stands for abstract base classes in python. abc module used to implement or to do work with \n",
    "abstract base class.\n",
    "Abstract base classes are classes which cant be initialized but can serve as templates to subclasses\n",
    "\n",
    "\n",
    "it is used for \n",
    "\n",
    "1 - defining abstract base classes\n",
    "2 - enforcing the implementation to subclasses\n",
    "3 - polymerphism typing\n",
    "4 - providin documentation to subclasses"
   ]
  },
  {
   "cell_type": "code",
   "execution_count": null,
   "id": "5a9c2e68-d859-405a-bf22-5a91c455b9a8",
   "metadata": {},
   "outputs": [],
   "source": []
  },
  {
   "cell_type": "code",
   "execution_count": null,
   "id": "cc84602f-9072-4efa-815d-5a7f5411fc43",
   "metadata": {},
   "outputs": [],
   "source": []
  },
  {
   "cell_type": "code",
   "execution_count": null,
   "id": "6b3176cf-a5ee-4415-a1f0-32d272a9ec08",
   "metadata": {},
   "outputs": [],
   "source": []
  },
  {
   "cell_type": "code",
   "execution_count": null,
   "id": "9192bb20-7765-42c4-985c-fc7a86298b25",
   "metadata": {},
   "outputs": [],
   "source": [
    "# Question - 4\n",
    "# ans"
   ]
  },
  {
   "cell_type": "markdown",
   "id": "4e61e081-1202-42df-9d11-02e3685354e9",
   "metadata": {},
   "source": [
    "\"\"\" to achieve data abstraction , following techniques can be followed - \n",
    "\n",
    "1 - Classes and objects ;-  can create class and objects that encapsulates the data\n",
    "\n",
    "2 - Access modifieres ;-  python provides access modifiers such as public ,\n",
    "                          private and protected to control the visiblity and \n",
    "                          accessibiity of the class attributes and methods\n",
    "                          \n",
    "3 - Getter and Setter ; - getter and setter are methods tha provide controlled access\n",
    "                          to private attributes. By defining appropriate getter and\n",
    "                          setter methods , can abstract away the direct access to attributes\n",
    "\n",
    "4 - Abstract Base Class ;- abstract base class defines the strucutre that subclass must to\n",
    "                            adhere . By creating and inheriting from abstract base class\n",
    "                            can enforce a specific sturcture and behaviour in subclasses\n",
    "                           \"\"\""
   ]
  },
  {
   "cell_type": "code",
   "execution_count": null,
   "id": "515f9757-612f-44f7-b41f-b2a35b21b752",
   "metadata": {},
   "outputs": [],
   "source": []
  },
  {
   "cell_type": "code",
   "execution_count": null,
   "id": "7e6c66bd-548c-4095-b3a7-61380f1a27b0",
   "metadata": {},
   "outputs": [],
   "source": []
  },
  {
   "cell_type": "code",
   "execution_count": null,
   "id": "8a9386df-67ea-4a53-a40d-1e29cce0edfd",
   "metadata": {},
   "outputs": [],
   "source": [
    "# Question - 5 \n",
    "# ans - "
   ]
  },
  {
   "cell_type": "markdown",
   "id": "592664ca-4558-4369-bcb3-406d72006f03",
   "metadata": {},
   "source": [
    "No ,  we cant create an instance directly for an abstract base class\n",
    "the purpose of 'abc' is to serve as template to subclasses.\n",
    "It define a common interface that subclass should implement\n",
    "\n"
   ]
  },
  {
   "cell_type": "code",
   "execution_count": 4,
   "id": "2ec4a1e0-2d08-4317-a5ab-3f5ed049695f",
   "metadata": {},
   "outputs": [],
   "source": [
    "import abc\n",
    "\n",
    "class clg:\n",
    "    \n",
    "    def name_clg(self):\n",
    "        pass\n",
    "    \n",
    "    \n",
    "    def students(self):\n",
    "        pass\n",
    "    \n",
    "    \n",
    "    def branches(self):\n",
    "        pass\n"
   ]
  },
  {
   "cell_type": "code",
   "execution_count": 5,
   "id": "265141fd-9c39-492c-8e4b-9f692b1f8082",
   "metadata": {},
   "outputs": [],
   "source": [
    "class details(clg):\n",
    "    def name_clg(self):\n",
    "        return 'it gives the name of clg'"
   ]
  },
  {
   "cell_type": "code",
   "execution_count": 6,
   "id": "67da4868-cb8f-477c-8e78-2265a9ec9b3f",
   "metadata": {},
   "outputs": [],
   "source": [
    "obj = details()"
   ]
  },
  {
   "cell_type": "code",
   "execution_count": 7,
   "id": "1c15dd8a-260b-4c90-a2c3-66289c6d8b66",
   "metadata": {},
   "outputs": [
    {
     "data": {
      "text/plain": [
       "'it gives the name of clg'"
      ]
     },
     "execution_count": 7,
     "metadata": {},
     "output_type": "execute_result"
    }
   ],
   "source": [
    "obj.name_clg()"
   ]
  },
  {
   "cell_type": "markdown",
   "id": "f9dcbb49-739c-4589-9ccb-164e1b746cb7",
   "metadata": {},
   "source": [
    "these abstract method in base clss dont have any implementation\n",
    "since there is no implemetnation in base class,  direct instance cant be create for \n",
    "abstract base class"
   ]
  },
  {
   "cell_type": "code",
   "execution_count": null,
   "id": "d9ffb762-1889-43b5-990a-cb7a5edc08b6",
   "metadata": {},
   "outputs": [],
   "source": []
  }
 ],
 "metadata": {
  "kernelspec": {
   "display_name": "Python 3 (ipykernel)",
   "language": "python",
   "name": "python3"
  },
  "language_info": {
   "codemirror_mode": {
    "name": "ipython",
    "version": 3
   },
   "file_extension": ".py",
   "mimetype": "text/x-python",
   "name": "python",
   "nbconvert_exporter": "python",
   "pygments_lexer": "ipython3",
   "version": "3.10.8"
  }
 },
 "nbformat": 4,
 "nbformat_minor": 5
}
